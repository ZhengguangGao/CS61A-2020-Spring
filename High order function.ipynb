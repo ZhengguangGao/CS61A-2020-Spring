{
 "cells": [
  {
   "cell_type": "markdown",
   "metadata": {},
   "source": [
    "## High order function\n",
    "\n",
    "### Lab2 Q5: Both Paths\n",
    "\n",
    "Let a path be some sequence of directions, starting with S for start, and followed by a sequence of L and Rs representing left and right turns along the path. For example, the path SLRRRLLL represents the path left, right, right, right, left, left, left.\n",
    "\n",
    "Your task is to implement the function both_paths, which prints out the path so far (at first just S), and then returns two functions, each of which keeps track of a branch to the right or the left. This is probably easiest to understand with an example, which can be found in the doctest of both_paths as seen below."
   ]
  },
  {
   "cell_type": "code",
   "execution_count": 3,
   "metadata": {},
   "outputs": [],
   "source": [
    "def both_paths(sofar=\"S\"):\n",
    "    \"\"\"\n",
    "    >>> left, right = both_paths()\n",
    "    S\n",
    "    >>> leftleft, leftright = left()\n",
    "    SL\n",
    "    >>> rightleft, rightright = right()\n",
    "    SR\n",
    "    >>> _ = leftleft()\n",
    "    SLL\n",
    "    \"\"\"\n"
   ]
  },
  {
   "cell_type": "code",
   "execution_count": 2,
   "metadata": {},
   "outputs": [],
   "source": [
    "def both_paths(sofar=\"S\"):\n",
    "    \"\"\"\n",
    "    >>> left, right = both_paths()\n",
    "    S\n",
    "    >>> leftleft, leftright = left()\n",
    "    SL\n",
    "    >>> rightleft, rightright = right()\n",
    "    SR\n",
    "    >>> _ = leftleft()\n",
    "    SLL\n",
    "    \"\"\"\n",
    "    print(sofar)\n",
    "    def left():\n",
    "        return both_paths(sofar + \"L\")\n",
    "    def right():\n",
    "        return both_paths(sofar + \"R\")\n",
    "    return left, right"
   ]
  },
  {
   "cell_type": "code",
   "execution_count": null,
   "metadata": {},
   "outputs": [],
   "source": []
  }
 ],
 "metadata": {
  "kernelspec": {
   "display_name": "Python 3",
   "language": "python",
   "name": "python3"
  },
  "language_info": {
   "codemirror_mode": {
    "name": "ipython",
    "version": 3
   },
   "file_extension": ".py",
   "mimetype": "text/x-python",
   "name": "python",
   "nbconvert_exporter": "python",
   "pygments_lexer": "ipython3",
   "version": "3.7.4"
  }
 },
 "nbformat": 4,
 "nbformat_minor": 2
}
